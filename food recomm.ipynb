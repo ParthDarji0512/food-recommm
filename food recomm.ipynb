{
 "cells": [
  {
   "cell_type": "code",
   "execution_count": null,
   "id": "ddba2744-2572-43e8-86e5-edb1956944da",
   "metadata": {},
   "outputs": [],
   "source": [
    "# Import libraries\n",
    "import pandas as pd\n",
    "import numpy as np\n",
    "from sklearn.neighbors import NearestNeighbors\n",
    "from sklearn.preprocessing import StandardScaler\n",
    "from sklearn.feature_extraction.text import TfidfVectorizer\n",
    "import re\n",
    "\n",
    "# Load your dataset\n",
    "df = pd.read_csv(\"recipe_final_with_nutrition.csv\")\n",
    "\n",
    "# Clean ingredients function (no replacements)\n",
    "def clean_ingredients(ingredients):\n",
    "    # Basic cleaning: \n",
    "    lowercase and remove extra whitespace\n",
    "    return re.sub(r'\\s+', ' ', ingredients.lower().strip())\n",
    "\n",
    "# Apply cleaning\n",
    "df['ingredients_list'] = df['ingredients_list'].fillna('').astype(str).apply(clean_ingredients)\n",
    "\n",
    "# Text vectorization\n",
    "vectorizer = TfidfVectorizer()\n",
    "X_ingredients = vectorizer.fit_transform(df['ingredients_list'])\n",
    "\n",
    "# Select and scale numerical features\n",
    "numerical_features = ['calories', 'carbohydrates', 'protein', 'cholesterol']\n",
    "X_numerical = df[numerical_features].fillna(0)\n",
    "scaler = StandardScaler()\n",
    "X_numerical_scaled = scaler.fit_transform(X_numerical)\n",
    "\n",
    "# Combine text and numeric features\n",
    "X_combined = np.hstack([X_numerical_scaled, X_ingredients.toarray()])\n",
    "\n",
    "# Fit KNN model\n",
    "knn = NearestNeighbors(n_neighbors=3, metric='euclidean')\n",
    "knn.fit(X_combined)\n",
    "\n",
    "# Recommendation function\n",
    "def recommend_recipes(input_features):\n",
    "    input_nutrition_scaled = scaler.transform([input_features[:4]])\n",
    "    input_ingredients_transformed = vectorizer.transform([input_features[4]])\n",
    "    input_combined = np.hstack([input_nutrition_scaled, input_ingredients_transformed.toarray()])\n",
    "    distances, indices = knn.kneighbors(input_combined)\n",
    "    return df.iloc[indices[0]][['recipe_name', 'ingredients_list', 'image_url']]\n",
    "\n",
    "# Example input (you can modify this)\n",
    "example_input = [300, 40, 10, 5, 'pork belly, smoked paprika, kosher salt']\n",
    "recommendations = recommend_recipes(example_input)\n",
    "\n",
    "# Display results\n",
    "recommendations.reset_index(drop=True)\n"
   ]
  },
  {
   "cell_type": "code",
   "execution_count": null,
   "id": "1607c384-590e-4f0a-8899-8496bcb44dee",
   "metadata": {},
   "outputs": [],
   "source": []
  }
 ],
 "metadata": {
  "kernelspec": {
   "display_name": "Python 3 (ipykernel)",
   "language": "python",
   "name": "python3"
  },
  "language_info": {
   "codemirror_mode": {
    "name": "ipython",
    "version": 3
   },
   "file_extension": ".py",
   "mimetype": "text/x-python",
   "name": "python",
   "nbconvert_exporter": "python",
   "pygments_lexer": "ipython3",
   "version": "3.12.2"
  }
 },
 "nbformat": 4,
 "nbformat_minor": 5
}
